{
 "cells": [
  {
   "cell_type": "code",
   "execution_count": 2,
   "metadata": {},
   "outputs": [
    {
     "name": "stdout",
     "output_type": "stream",
     "text": [
      "217\n"
     ]
    }
   ],
   "source": [
    "def soma_divisores(n):\n",
    "    def aux(n, div, res):\n",
    "        if div == 0:\n",
    "            return res\n",
    "        if n % div == 0:\n",
    "            return aux(n, div - 1, res + div)\n",
    "        return aux(n, div - 1, res)\n",
    "    return aux(n, n, 0)\n",
    "\n",
    "print(soma_divisores(100))"
   ]
  },
  {
   "cell_type": "code",
   "execution_count": 1,
   "metadata": {},
   "outputs": [
    {
     "name": "stdout",
     "output_type": "stream",
     "text": [
      "217\n"
     ]
    }
   ],
   "source": [
    "def soma_divisores(n):\n",
    "    def soma_divisores_aux(n, d, acc):\n",
    "        if d > n:\n",
    "            return acc\n",
    "        if n % d == 0:\n",
    "            return soma_divisores_aux(n, d + 1, acc + d)\n",
    "        return soma_divisores_aux(n, d + 1, acc)\n",
    "\n",
    "    return soma_divisores_aux(n, 1, 0)\n",
    "\n",
    "print(soma_divisores(100))"
   ]
  }
 ],
 "metadata": {
  "kernelspec": {
   "display_name": "Python 3.10.8 64-bit (microsoft store)",
   "language": "python",
   "name": "python3"
  },
  "language_info": {
   "codemirror_mode": {
    "name": "ipython",
    "version": 3
   },
   "file_extension": ".py",
   "mimetype": "text/x-python",
   "name": "python",
   "nbconvert_exporter": "python",
   "pygments_lexer": "ipython3",
   "version": "3.10.8"
  },
  "orig_nbformat": 4,
  "vscode": {
   "interpreter": {
    "hash": "32623ca6d4857eacc0997917524f4c2329e28cd5f4d8f14dc7dd522706e088d5"
   }
  }
 },
 "nbformat": 4,
 "nbformat_minor": 2
}
