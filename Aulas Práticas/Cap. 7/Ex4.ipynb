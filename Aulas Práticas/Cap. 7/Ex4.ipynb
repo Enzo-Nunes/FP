{
 "cells": [
  {
   "cell_type": "code",
   "execution_count": 15,
   "metadata": {},
   "outputs": [
    {
     "name": "stdout",
     "output_type": "stream",
     "text": [
      "True\n"
     ]
    }
   ],
   "source": [
    "def numero_digitosTR(n):\n",
    "    def aux(n, r):\n",
    "        if n == 0:\n",
    "            return r\n",
    "        return aux(n//10, r + 1)\n",
    "    return aux(n, 0)\n",
    "\n",
    "def eh_capicua(n):\n",
    "    def aux(n, n_dig):\n",
    "        if numero_digitosTR(n) <= 1:\n",
    "            return True\n",
    "        if n % 10 == n // (10 ** (numero_digitosTR(n) - 1)):\n",
    "            return aux((n - n//(10 ** (n_dig - 1)) * (10 ** (numero_digitosTR(n) - 1))) // 10, n_dig - 2)\n",
    "        return False\n",
    "    return aux(n, numero_digitosTR(n))\n",
    "\n",
    "print(eh_capicua())"
   ]
  }
 ],
 "metadata": {
  "kernelspec": {
   "display_name": "Python 3.10.8 64-bit (microsoft store)",
   "language": "python",
   "name": "python3"
  },
  "language_info": {
   "codemirror_mode": {
    "name": "ipython",
    "version": 3
   },
   "file_extension": ".py",
   "mimetype": "text/x-python",
   "name": "python",
   "nbconvert_exporter": "python",
   "pygments_lexer": "ipython3",
   "version": "3.10.8"
  },
  "orig_nbformat": 4,
  "vscode": {
   "interpreter": {
    "hash": "32623ca6d4857eacc0997917524f4c2329e28cd5f4d8f14dc7dd522706e088d5"
   }
  }
 },
 "nbformat": 4,
 "nbformat_minor": 2
}
