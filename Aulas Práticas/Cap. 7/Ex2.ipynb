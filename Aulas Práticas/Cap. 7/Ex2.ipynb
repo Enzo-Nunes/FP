{
 "cells": [
  {
   "cell_type": "code",
   "execution_count": 15,
   "metadata": {},
   "outputs": [
    {
     "name": "stdout",
     "output_type": "stream",
     "text": [
      "16\n"
     ]
    }
   ],
   "source": [
    "def quadrado(n):\n",
    "    if n == 0:\n",
    "        return 0\n",
    "    return n + n - 1 + quadrado(n - 1)\n",
    "\n",
    "def quadradoTR(n):\n",
    "    def aux(n, res):\n",
    "        if n == 0:\n",
    "            return res\n",
    "        return res + aux(n - 1, n + n - 1)\n",
    "    return aux(n, 0)\n",
    "\n",
    "def quadradoIT(n):\n",
    "    res = 0\n",
    "    while n != 0:\n",
    "        res += n + n - 1\n",
    "        n -= 1\n",
    "    return res\n",
    "print(quadradoIT(4))"
   ]
  }
 ],
 "metadata": {
  "kernelspec": {
   "display_name": "Python 3.10.8 64-bit (microsoft store)",
   "language": "python",
   "name": "python3"
  },
  "language_info": {
   "codemirror_mode": {
    "name": "ipython",
    "version": 3
   },
   "file_extension": ".py",
   "mimetype": "text/x-python",
   "name": "python",
   "nbconvert_exporter": "python",
   "pygments_lexer": "ipython3",
   "version": "3.10.8"
  },
  "orig_nbformat": 4,
  "vscode": {
   "interpreter": {
    "hash": "32623ca6d4857eacc0997917524f4c2329e28cd5f4d8f14dc7dd522706e088d5"
   }
  }
 },
 "nbformat": 4,
 "nbformat_minor": 2
}
