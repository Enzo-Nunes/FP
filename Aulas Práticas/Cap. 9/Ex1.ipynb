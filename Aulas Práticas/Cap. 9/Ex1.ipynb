{
 "cells": [
  {
   "cell_type": "code",
   "execution_count": 5,
   "metadata": {},
   "outputs": [
    {
     "name": "stdout",
     "output_type": "stream",
     "text": [
      "3/18\n"
     ]
    }
   ],
   "source": [
    "def cria_rac(n, d):\n",
    "    if not (isinstance(n, int) and isinstance(d, int) and d > 0):\n",
    "        raise ValueError(\"\")\n",
    "    return {\"n\":n, \"d\":d}\n",
    "\n",
    "def num(r):\n",
    "    return r[\"n\"]\n",
    "def den(r):\n",
    "    return r[\"d\"]\n",
    "\n",
    "def eh_racional(r):\n",
    "    if not(isinstance(r, dict)):\n",
    "        return False\n",
    "    if len(r) != 2:\n",
    "        return False\n",
    "    if not (\"n\" in r and \"d\" in r):\n",
    "        return False\n",
    "    if not (isinstance(r[\"n\"], int) and isinstance(r[\"d\"], int) and r[\"d\"] > 0):\n",
    "        return False\n",
    "    return True\n",
    "\n",
    "def eh_rac_zero(r):\n",
    "    if r[\"n\"] == 0:\n",
    "        return True\n",
    "    return False\n",
    "\n",
    "def rac_iguais(r1, r2):\n",
    "    if r1[\"n\"] * r2[\"d\"] == r1[\"d\"] * r2[\"n\"]:\n",
    "        return True\n",
    "    return False\n",
    "\n",
    "def escreve_rac(r):\n",
    "    return str(r[\"n\"]) + \"/\" + str(r[\"d\"])\n",
    "\n",
    "def produto_rac(r1, r2):\n",
    "    return cria_rac(r1[\"n\"] * r2[\"n\"], r1[\"d\"] * r2[\"d\"])\n",
    "\n",
    "print(escreve_rac(produto_rac(cria_rac(1, 3), cria_rac(3, 6))))"
   ]
  }
 ],
 "metadata": {
  "kernelspec": {
   "display_name": "Python 3.10.8 64-bit (microsoft store)",
   "language": "python",
   "name": "python3"
  },
  "language_info": {
   "codemirror_mode": {
    "name": "ipython",
    "version": 3
   },
   "file_extension": ".py",
   "mimetype": "text/x-python",
   "name": "python",
   "nbconvert_exporter": "python",
   "pygments_lexer": "ipython3",
   "version": "3.10.8"
  },
  "orig_nbformat": 4,
  "vscode": {
   "interpreter": {
    "hash": "32623ca6d4857eacc0997917524f4c2329e28cd5f4d8f14dc7dd522706e088d5"
   }
  }
 },
 "nbformat": 4,
 "nbformat_minor": 2
}
