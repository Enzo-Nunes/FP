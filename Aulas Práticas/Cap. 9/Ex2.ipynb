{
 "cells": [
  {
   "cell_type": "code",
   "execution_count": 15,
   "metadata": {},
   "outputs": [
    {
     "name": "stdout",
     "output_type": "stream",
     "text": [
      "4740\n"
     ]
    }
   ],
   "source": [
    "def cria_rel(h, m, s):\n",
    "    if not (0 <= h <= 23 and 0 <= m <= 59 and 0 <= s <= 59):\n",
    "        raise ValueError(\"Argumentos Inválidos\")\n",
    "    return [h, m, s]\n",
    "\n",
    "def horas(r):\n",
    "    if not eh_relógio(r):\n",
    "        raise ValueError(\"Argumentos Inválidos\")\n",
    "    return r[0]\n",
    "\n",
    "def minutos(r):\n",
    "    if not eh_relógio(r):\n",
    "        raise ValueError(\"Argumentos Inválidos\")\n",
    "    return r[1]\n",
    "\n",
    "def segs(r):\n",
    "    if not eh_relógio(r):\n",
    "        raise ValueError(\"Argumentos Inválidos\")\n",
    "    return r[2]\n",
    "\n",
    "def eh_relógio(r):\n",
    "    if not (isinstance(r, list)):\n",
    "        return False\n",
    "    if len(r) != 3:\n",
    "        return False\n",
    "    for x in r:\n",
    "        if not isinstance(x, int):\n",
    "            return False\n",
    "    if not (0 <= r[0] <= 23 and 0 <= r[1] <= 59 and 0 <= r[2] <= 59):\n",
    "        return False\n",
    "    return True\n",
    "\n",
    "def eh_meia_noite(r):\n",
    "    if r[0] == r[1] == r[2] == 0:\n",
    "        return True\n",
    "    return False\n",
    "\n",
    "def eh_meio_dia(r):\n",
    "    if r[0] == 12 and r[1] == r[2] == 0:\n",
    "        return True\n",
    "    return False\n",
    "\n",
    "def mesmas_horas(r1, r2):\n",
    "    if not (eh_relógio(r1) and eh_relógio(r2)):\n",
    "        raise ValueError(\"Argumentos Inválidos\")\n",
    "    if r1[0] == r2[0] and r1[1] == r2[1] and r1[2] == r2[2]:\n",
    "        return True\n",
    "    return False\n",
    "\n",
    "def escreve_relógio(r):\n",
    "    if not eh_relógio(r):\n",
    "        raise ValueError(\"Argumentos Inválidos\")\n",
    "    h = str(horas(r)) if horas(r) >= 10 else \"0\" + str(horas(r))\n",
    "    m = str(minutos(r)) if minutos(r) >= 10 else \"0\" + str(minutos(r))\n",
    "    s = str(segs(r)) if segs(r) >= 10 else \"0\" + str(segs(r))\n",
    "    return h + \":\" + m + \":\" + s\n",
    "\n",
    "def depois_rel(r1, r2):\n",
    "    if not (eh_relógio(r1) and eh_relógio(r2)):\n",
    "        raise ValueError(\"Argumentos Inválidos\")\n",
    "\n",
    "    if horas(r2) > horas(r1):\n",
    "        return True\n",
    "    if horas(r2) < horas(r1):\n",
    "        return False\n",
    "    if minutos(r2) > minutos(r1):\n",
    "        return True\n",
    "    if minutos(r2) < minutos(r1):\n",
    "        return False\n",
    "    if segs(r2) > segs(r1):\n",
    "        return True\n",
    "    return False\n",
    "\n",
    "def dif_segs(r1, r2):\n",
    "    if not (eh_relógio(r1) and eh_relógio(r2)):\n",
    "        raise ValueError(\"Argumentos Inválidos\")\n",
    "    if not depois_rel(r1, r2):\n",
    "        raise ValueError(\"primeiro arg posterior ao segundo\")\n",
    "\n",
    "    s_r1 = 3600 * horas(r1) + 60 * minutos(r1) + segs(r1)\n",
    "    s_r2 = 3600 * horas(r2) + 60 * minutos(r2) + segs(r2)\n",
    "    return s_r2 - s_r1\n",
    "\n",
    "print(dif_segs(cria_rel(10, 2, 34), cria_rel(11, 21, 34)))\n"
   ]
  }
 ],
 "metadata": {
  "kernelspec": {
   "display_name": "Python 3.10.8 64-bit (microsoft store)",
   "language": "python",
   "name": "python3"
  },
  "language_info": {
   "codemirror_mode": {
    "name": "ipython",
    "version": 3
   },
   "file_extension": ".py",
   "mimetype": "text/x-python",
   "name": "python",
   "nbconvert_exporter": "python",
   "pygments_lexer": "ipython3",
   "version": "3.10.8"
  },
  "orig_nbformat": 4,
  "vscode": {
   "interpreter": {
    "hash": "32623ca6d4857eacc0997917524f4c2329e28cd5f4d8f14dc7dd522706e088d5"
   }
  }
 },
 "nbformat": 4,
 "nbformat_minor": 2
}
