{
 "cells": [
  {
   "cell_type": "code",
   "execution_count": null,
   "metadata": {},
   "outputs": [],
   "source": [
    "def prod_int(u, v):\n",
    "    prod = 0\n",
    "    for i in range(u):\n",
    "        prod += u[i]*v[i]\n",
    "    return prod\n",
    "    \n",
    "def multiplica_mat(A, B):\n",
    "    if not (len(A[0]) == len[B]):\n",
    "        raise ValueError(\"dimensoes incompativeis\")\n",
    "    C = []\n",
    "    for i in range(len(A)):\n",
    "        LinhaC = []\n",
    "        for j in range(len(B[0])):\n",
    "            colunaB = [B[k][j] for k in range(len(B))]\n",
    "            LinhaC += [prod_int(A[i], B)]\n",
    "        C += [LinhaC]\n",
    "    return C"
   ]
  }
 ],
 "metadata": {
  "kernelspec": {
   "display_name": "Python 3.10.7 64-bit (microsoft store)",
   "language": "python",
   "name": "python3"
  },
  "language_info": {
   "name": "python",
   "version": "3.10.8"
  },
  "orig_nbformat": 4,
  "vscode": {
   "interpreter": {
    "hash": "32623ca6d4857eacc0997917524f4c2329e28cd5f4d8f14dc7dd522706e088d5"
   }
  }
 },
 "nbformat": 4,
 "nbformat_minor": 2
}
