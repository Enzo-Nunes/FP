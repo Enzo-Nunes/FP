{
 "cells": [
  {
   "cell_type": "code",
   "execution_count": null,
   "metadata": {},
   "outputs": [],
   "source": [
    "def soma_cumulativa(w):\n",
    "    s = 0\n",
    "    for i in range(len(w)):\n",
    "        s   += w[i]\n",
    "        w[i] = s\n",
    "    return w"
   ]
  }
 ],
 "metadata": {
  "language_info": {
   "name": "python"
  },
  "orig_nbformat": 4
 },
 "nbformat": 4,
 "nbformat_minor": 2
}
