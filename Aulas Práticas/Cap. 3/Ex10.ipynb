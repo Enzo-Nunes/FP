{
 "cells": [
  {
   "cell_type": "code",
   "execution_count": 14,
   "metadata": {},
   "outputs": [
    {
     "name": "stdout",
     "output_type": "stream",
     "text": [
      "1089\n"
     ]
    }
   ],
   "source": [
    "def inverte_num(n):\n",
    "    res = 0\n",
    "    while n != 0:\n",
    "        res = 10 * res + n % 10\n",
    "        n //= 10\n",
    "    return res\n",
    "\n",
    "def misterio(n):\n",
    "    ni = inverte_num(n)\n",
    "    if ni < n:\n",
    "        ns = n - ni\n",
    "    else:\n",
    "        ns = ni - n\n",
    "    \n",
    "    if ns < 100:\n",
    "        raise ValueError(\"Condições não verificadas\")\n",
    "    \n",
    "    nsi = inverte_num(ns)\n",
    "    return nsi + ns\n",
    "print(misterio(246))"
   ]
  }
 ],
 "metadata": {
  "kernelspec": {
   "display_name": "Python 3.10.7 64-bit (microsoft store)",
   "language": "python",
   "name": "python3"
  },
  "language_info": {
   "codemirror_mode": {
    "name": "ipython",
    "version": 3
   },
   "file_extension": ".py",
   "mimetype": "text/x-python",
   "name": "python",
   "nbconvert_exporter": "python",
   "pygments_lexer": "ipython3",
   "version": "3.10.7"
  },
  "orig_nbformat": 4,
  "vscode": {
   "interpreter": {
    "hash": "32623ca6d4857eacc0997917524f4c2329e28cd5f4d8f14dc7dd522706e088d5"
   }
  }
 },
 "nbformat": 4,
 "nbformat_minor": 2
}
