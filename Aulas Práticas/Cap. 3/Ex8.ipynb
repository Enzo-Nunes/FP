{
 "cells": [
  {
   "cell_type": "code",
   "execution_count": null,
   "metadata": {},
   "outputs": [],
   "source": [
    "def serie_geom(r, n):\n",
    "    if not (isinstance(r, int)):\n",
    "        raise ValueError(\"'r' deve ser um inteiro\")\n",
    "    if not (isinstance(n, int) and n >= 0):\n",
    "        raise ValueError(\"'n' deve ser um inteiro não negativo\")\n",
    "    else:\n",
    "        i = 0\n",
    "        soma = 0\n",
    "        termo = 1\n",
    "        while i <= n:\n",
    "            soma += termo\n",
    "            termo *= r\n",
    "            i += 1\n",
    "    return soma\n",
    "print(serie_geom(3, 2))"
   ]
  },
  {
   "cell_type": "code",
   "execution_count": null,
   "metadata": {},
   "outputs": [],
   "source": [
    "def serie_geom(r, n):\n",
    "    if not (isinstance(r, int)):\n",
    "        raise ValueError(\"'r' deve ser um inteiro\")\n",
    "    if not (isinstance(n, int) and n >= 0):\n",
    "        raise ValueError(\"'n' deve ser um inteiro não negativo\")\n",
    "    else:\n",
    "        res = (1 - r ** (n + 1))/(1 - r)\n",
    "        return res\n",
    "print(serie_geom(3, 2))"
   ]
  }
 ],
 "metadata": {
  "kernelspec": {
   "display_name": "Python 3.10.7 64-bit (microsoft store)",
   "language": "python",
   "name": "python3"
  },
  "language_info": {
   "codemirror_mode": {
    "name": "ipython",
    "version": 3
   },
   "file_extension": ".py",
   "mimetype": "text/x-python",
   "name": "python",
   "nbconvert_exporter": "python",
   "pygments_lexer": "ipython3",
   "version": "3.10.7"
  },
  "orig_nbformat": 4,
  "vscode": {
   "interpreter": {
    "hash": "32623ca6d4857eacc0997917524f4c2329e28cd5f4d8f14dc7dd522706e088d5"
   }
  }
 },
 "nbformat": 4,
 "nbformat_minor": 2
}
