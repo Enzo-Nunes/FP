{
 "cells": [
  {
   "cell_type": "code",
   "execution_count": 7,
   "metadata": {},
   "outputs": [
    {
     "ename": "ValueError",
     "evalue": "Cadeia de caracteres inválida",
     "output_type": "error",
     "traceback": [
      "\u001b[1;31m---------------------------------------------------------------------------\u001b[0m",
      "\u001b[1;31mValueError\u001b[0m                                Traceback (most recent call last)",
      "Cell \u001b[1;32mIn [7], line 25\u001b[0m\n\u001b[0;32m     23\u001b[0m     \u001b[39melse\u001b[39;00m:\n\u001b[0;32m     24\u001b[0m         \u001b[39mraise\u001b[39;00m \u001b[39mValueError\u001b[39;00m(\u001b[39m\"\u001b[39m\u001b[39mCadeia de caracteres inválida\u001b[39m\u001b[39m\"\u001b[39m)\n\u001b[1;32m---> 25\u001b[0m \u001b[39mprint\u001b[39m(dias_mes(\u001b[39m\"\u001b[39;49m\u001b[39mruca\u001b[39;49m\u001b[39m\"\u001b[39;49m, \u001b[39m1984\u001b[39;49m))\n",
      "Cell \u001b[1;32mIn [7], line 24\u001b[0m, in \u001b[0;36mdias_mes\u001b[1;34m(mes, ano)\u001b[0m\n\u001b[0;32m     22\u001b[0m     \u001b[39mreturn\u001b[39;00m \u001b[39m\"\u001b[39m\u001b[39m30\u001b[39m\u001b[39m\"\u001b[39m\n\u001b[0;32m     23\u001b[0m \u001b[39melse\u001b[39;00m:\n\u001b[1;32m---> 24\u001b[0m     \u001b[39mraise\u001b[39;00m \u001b[39mValueError\u001b[39;00m(\u001b[39m\"\u001b[39m\u001b[39mCadeia de caracteres inválida\u001b[39m\u001b[39m\"\u001b[39m)\n",
      "\u001b[1;31mValueError\u001b[0m: Cadeia de caracteres inválida"
     ]
    }
   ],
   "source": [
    "def bissexto(n):\n",
    "    if (n % 4 == 0 and n % 100 == 0 and n % 400 == 0):\n",
    "        return True\n",
    "    elif (n % 4 == 0 and n % 100 != 0):\n",
    "        return True\n",
    "    else:\n",
    "        return False\n",
    "\n",
    "def dias_mes(mes, ano):\n",
    "    if mes == \"fev\":\n",
    "        if bissexto(ano) == True:\n",
    "            return \"29\"\n",
    "        else:\n",
    "            return \"28\"\n",
    "    \n",
    "    meses_31 = (\"jan\", \"mar\", \"mai\", \"jul\", \"ago\", \"out\", \"dez\")\n",
    "    meses_30 = (\"abr\", \"jun\", \"set\", \"nov\")\n",
    "\n",
    "    if mes in meses_31:\n",
    "        return \"31\"\n",
    "    if mes in meses_30:\n",
    "        return \"30\"\n",
    "    else:\n",
    "        raise ValueError(\"Cadeia de caracteres inválida\")"
   ]
  }
 ],
 "metadata": {
  "kernelspec": {
   "display_name": "Python 3.10.7 64-bit (microsoft store)",
   "language": "python",
   "name": "python3"
  },
  "language_info": {
   "codemirror_mode": {
    "name": "ipython",
    "version": 3
   },
   "file_extension": ".py",
   "mimetype": "text/x-python",
   "name": "python",
   "nbconvert_exporter": "python",
   "pygments_lexer": "ipython3",
   "version": "3.10.7"
  },
  "orig_nbformat": 4,
  "vscode": {
   "interpreter": {
    "hash": "32623ca6d4857eacc0997917524f4c2329e28cd5f4d8f14dc7dd522706e088d5"
   }
  }
 },
 "nbformat": 4,
 "nbformat_minor": 2
}
