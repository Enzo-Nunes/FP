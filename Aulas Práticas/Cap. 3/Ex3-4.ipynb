{
 "cells": [
  {
   "cell_type": "code",
   "execution_count": 2,
   "metadata": {},
   "outputs": [
    {
     "name": "stdout",
     "output_type": "stream",
     "text": [
      "37.68\n"
     ]
    }
   ],
   "source": [
    "def area_circulo(r):\n",
    "    return 3.14 * r ** 2\n",
    "\n",
    "def area_coroa(r_1, r_2):\n",
    "    if r_1 > r_2:\n",
    "        raise ValueError(\"r1 deve ser menor que r2\")\n",
    "    \n",
    "    coroa = area_circulo(r_2) - area_circulo(r_1)\n",
    "\n",
    "    return coroa\n",
    "print(area_coroa(2, 4))"
   ]
  }
 ],
 "metadata": {
  "kernelspec": {
   "display_name": "Python 3.10.7 64-bit (microsoft store)",
   "language": "python",
   "name": "python3"
  },
  "language_info": {
   "codemirror_mode": {
    "name": "ipython",
    "version": 3
   },
   "file_extension": ".py",
   "mimetype": "text/x-python",
   "name": "python",
   "nbconvert_exporter": "python",
   "pygments_lexer": "ipython3",
   "version": "3.10.7"
  },
  "orig_nbformat": 4,
  "vscode": {
   "interpreter": {
    "hash": "32623ca6d4857eacc0997917524f4c2329e28cd5f4d8f14dc7dd522706e088d5"
   }
  }
 },
 "nbformat": 4,
 "nbformat_minor": 2
}
