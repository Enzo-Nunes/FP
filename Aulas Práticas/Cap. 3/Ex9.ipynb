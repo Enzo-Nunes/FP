{
 "cells": [
  {
   "cell_type": "code",
   "execution_count": 11,
   "metadata": {},
   "outputs": [
    {
     "name": "stdout",
     "output_type": "stream",
     "text": [
      "Sábado\n"
     ]
    }
   ],
   "source": [
    "def dia_da_semana(q, m_previo, a):\n",
    "\n",
    "    meses = (0, 13, 14, 3, 4, 5, 6, 7, 8, 9, 10, 11, 12)\n",
    "    m = meses[m_previo]\n",
    "\n",
    "    if m == 13 or m == 14:\n",
    "        a -= 1\n",
    "\n",
    "    k = a % 100\n",
    "    j = a // 100\n",
    "    h = (q + (13 * (m + 1)) // 5 + k + k // 4 + j // 4 - 2 * j) % 7\n",
    "    \n",
    "    dias_semana = (\"Sábado\", \"Domingo\", \"Segunda\", \"Terça\", \"Quarta\", \"Quinta\", \"Sexta\")\n",
    "    return dias_semana[h]\n",
    "\n",
    "print(dia_da_semana(18, 1, 2014))"
   ]
  }
 ],
 "metadata": {
  "kernelspec": {
   "display_name": "Python 3.10.7 64-bit (microsoft store)",
   "language": "python",
   "name": "python3"
  },
  "language_info": {
   "codemirror_mode": {
    "name": "ipython",
    "version": 3
   },
   "file_extension": ".py",
   "mimetype": "text/x-python",
   "name": "python",
   "nbconvert_exporter": "python",
   "pygments_lexer": "ipython3",
   "version": "3.10.7"
  },
  "orig_nbformat": 4,
  "vscode": {
   "interpreter": {
    "hash": "32623ca6d4857eacc0997917524f4c2329e28cd5f4d8f14dc7dd522706e088d5"
   }
  }
 },
 "nbformat": 4,
 "nbformat_minor": 2
}
