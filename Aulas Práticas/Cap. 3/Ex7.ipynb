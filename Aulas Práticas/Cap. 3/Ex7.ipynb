{
 "cells": [
  {
   "cell_type": "code",
   "execution_count": null,
   "metadata": {},
   "outputs": [],
   "source": [
    "def valor(q, j, n):\n",
    "    if isinstance(q, int) and q > 0:\n",
    "        if isinstance(j, float) and 0 < j < 1:\n",
    "            if isinstance(n, int) and n > 0:\n",
    "                res = q * (1 + j) ** n\n",
    "                return res\n",
    "            else:\n",
    "                raise ValueError(\"'n' inválido\")\n",
    "        else:\n",
    "            raise ValueError(\"'j' inválido\")\n",
    "    else:\n",
    "        raise ValueError(\"'q' inválido\")"
   ]
  },
  {
   "cell_type": "code",
   "execution_count": null,
   "metadata": {},
   "outputs": [],
   "source": [
    "def duplicar(q, j):\n",
    "    n = 1\n",
    "    while valor(q, j, n) < 2 * q:\n",
    "        n += 1\n",
    "    return n\n",
    "print(duplicar(200, 0.03))"
   ]
  }
 ],
 "metadata": {
  "kernelspec": {
   "display_name": "Python 3.10.7 64-bit (microsoft store)",
   "language": "python",
   "name": "python3"
  },
  "language_info": {
   "codemirror_mode": {
    "name": "ipython",
    "version": 3
   },
   "file_extension": ".py",
   "mimetype": "text/x-python",
   "name": "python",
   "nbconvert_exporter": "python",
   "pygments_lexer": "ipython3",
   "version": "3.10.7"
  },
  "orig_nbformat": 4,
  "vscode": {
   "interpreter": {
    "hash": "32623ca6d4857eacc0997917524f4c2329e28cd5f4d8f14dc7dd522706e088d5"
   }
  }
 },
 "nbformat": 4,
 "nbformat_minor": 2
}
