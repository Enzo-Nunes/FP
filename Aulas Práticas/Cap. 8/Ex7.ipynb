{
 "cells": [
  {
   "cell_type": "code",
   "execution_count": null,
   "metadata": {},
   "outputs": [],
   "source": [
    "def mostra_ordenado(w):\n",
    "    troca = True\n",
    "    w = list(dic.items())\n",
    "    while troca:\n",
    "        troca = False\n",
    "        for i in range(len(w)-1):\n",
    "            if w[i][0] > w[i+1][0]:\n",
    "                w[i], w[i+1] = w[i+1], w[i]\n",
    "                troca = True\n"
   ]
  }
 ],
 "metadata": {
  "kernelspec": {
   "display_name": "Python 3.10.8 64-bit (microsoft store)",
   "language": "python",
   "name": "python3"
  },
  "language_info": {
   "name": "python",
   "version": "3.10.8"
  },
  "orig_nbformat": 4,
  "vscode": {
   "interpreter": {
    "hash": "32623ca6d4857eacc0997917524f4c2329e28cd5f4d8f14dc7dd522706e088d5"
   }
  }
 },
 "nbformat": 4,
 "nbformat_minor": 2
}
