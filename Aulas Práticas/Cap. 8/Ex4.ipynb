{
 "cells": [
  {
   "cell_type": "code",
   "execution_count": null,
   "metadata": {},
   "outputs": [],
   "source": [
    "def resumo_FP(notas):\n",
    "    apr, rpv, soma = 0, 0, 0\n",
    "    for k, v in notas.items():\n",
    "        if k < 10:\n",
    "            rpv += len(v)\n",
    "        else:\n",
    "            apr += len(v)\n",
    "            soma += k * len(v)\n",
    "    return soma/apr, rpv"
   ]
  }
 ],
 "metadata": {
  "kernelspec": {
   "display_name": "Python 3.10.8 64-bit (microsoft store)",
   "language": "python",
   "name": "python3"
  },
  "language_info": {
   "name": "python",
   "version": "3.10.8"
  },
  "orig_nbformat": 4,
  "vscode": {
   "interpreter": {
    "hash": "32623ca6d4857eacc0997917524f4c2329e28cd5f4d8f14dc7dd522706e088d5"
   }
  }
 },
 "nbformat": 4,
 "nbformat_minor": 2
}
