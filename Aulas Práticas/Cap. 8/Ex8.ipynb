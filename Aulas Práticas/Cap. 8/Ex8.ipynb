{
 "cells": [
  {
   "cell_type": "code",
   "execution_count": null,
   "metadata": {},
   "outputs": [],
   "source": [
    "def cria_rac(n, d):\n",
    "    return {\"n\":n, \"d\":d}\n",
    "\n",
    "def num(r):\n",
    "    return r[\"n\"]\n",
    "\n",
    "def den(r):\n",
    "    return r[\"d\"]\n",
    "\n",
    "def eh_racional(r):\n",
    "    if not isinstance(r, dict):\n",
    "        return False\n",
    "    if len(r) != 2:\n",
    "        return False\n",
    "    if not (\"n\" in r and \"d\" in r):\n",
    "        return False\n",
    "    if not (isinstance(r[\"n\"], int) and isinstance(r[\"d\"], int) and r[\"d\" > 0]):\n",
    "        return False\n",
    "    return True\n",
    "\n",
    "def eh_racional_zero(r):\n",
    "    if r[\"n\"] == 0:\n",
    "        return True\n",
    "    return False\n",
    "\n",
    "def rac_iguais(r1, r2):\n",
    "    "
   ]
  }
 ],
 "metadata": {
  "kernelspec": {
   "display_name": "Python 3.10.8 64-bit (microsoft store)",
   "language": "python",
   "name": "python3"
  },
  "language_info": {
   "name": "python",
   "version": "3.10.8"
  },
  "orig_nbformat": 4,
  "vscode": {
   "interpreter": {
    "hash": "32623ca6d4857eacc0997917524f4c2329e28cd5f4d8f14dc7dd522706e088d5"
   }
  }
 },
 "nbformat": 4,
 "nbformat_minor": 2
}
