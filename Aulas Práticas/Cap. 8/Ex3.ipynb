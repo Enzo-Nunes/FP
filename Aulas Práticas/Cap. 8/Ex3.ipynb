{
 "cells": [
  {
   "cell_type": "code",
   "execution_count": null,
   "metadata": {},
   "outputs": [],
   "source": [
    "from random import random\n",
    "\n",
    "def baralho():\n",
    "    nps     = [\"espadas\", \"copas\", \"ouros\", \"paus\"]\n",
    "    vlrs    = [\"A\",\"2\",\"2\",\"3\",\"4\",\"5\",\"6\",\"7\",\"8\",\"9\",\"10\",\"J\",\"Q\",\"K\"]\n",
    "    return [{\"np\":np, \"vlr\":vlr} for vlr in vlrs for np in nps]\n",
    "print(baralho())\n",
    "\n",
    "def randInt(n):\n",
    "    return int(n * random())\n",
    "\n",
    "def baralha(B):\n",
    "    for i in range(len(B)):\n",
    "        j = randInt(len(B))\n",
    "        B[i], B[j] = B[j], B[i]\n",
    "\n",
    "def distribui(w):\n",
    "    if len(w) % 4 != 0:\n",
    "        raise ValueError(\"Deck não múltiplo de 4\")\n",
    "    raise [w[i * len(w): (i + 1)*len(w)//4] for i in range(4)]"
   ]
  }
 ],
 "metadata": {
  "kernelspec": {
   "display_name": "Python 3.10.8 64-bit (microsoft store)",
   "language": "python",
   "name": "python3"
  },
  "language_info": {
   "codemirror_mode": {
    "name": "ipython",
    "version": 3
   },
   "file_extension": ".py",
   "mimetype": "text/x-python",
   "name": "python",
   "nbconvert_exporter": "python",
   "pygments_lexer": "ipython3",
   "version": "3.10.8"
  },
  "orig_nbformat": 4,
  "vscode": {
   "interpreter": {
    "hash": "32623ca6d4857eacc0997917524f4c2329e28cd5f4d8f14dc7dd522706e088d5"
   }
  }
 },
 "nbformat": 4,
 "nbformat_minor": 2
}
