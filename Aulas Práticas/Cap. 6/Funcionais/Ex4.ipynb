{
 "cells": [
  {
   "cell_type": "code",
   "execution_count": null,
   "metadata": {},
   "outputs": [],
   "source": [
    "def filtra(lst, tst):\n",
    "    if lst == []:\n",
    "        return []\n",
    "    elif tst(lst[0]):\n",
    "        return lst[0] + filtra(lst[1:], tst)\n",
    "    return filtra(lst[1:], tst)"
   ]
  },
  {
   "cell_type": "code",
   "execution_count": null,
   "metadata": {},
   "outputs": [],
   "source": [
    "def transforma(lst, fn):\n",
    "    if lst == []:\n",
    "        return []\n",
    "    return [fn(lst[0])] + transforma(lst[1:], fn)"
   ]
  },
  {
   "cell_type": "code",
   "execution_count": null,
   "metadata": {},
   "outputs": [],
   "source": [
    "def acumula(lst, fn):\n",
    "    if len(lst) == 1:\n",
    "        return lst[0]\n",
    "    return fn(list[0], acumula(lst[1:], fn))"
   ]
  }
 ],
 "metadata": {
  "kernelspec": {
   "display_name": "Python 3.10.8 64-bit (microsoft store)",
   "language": "python",
   "name": "python3"
  },
  "language_info": {
   "name": "python",
   "version": "3.10.8"
  },
  "orig_nbformat": 4,
  "vscode": {
   "interpreter": {
    "hash": "32623ca6d4857eacc0997917524f4c2329e28cd5f4d8f14dc7dd522706e088d5"
   }
  }
 },
 "nbformat": 4,
 "nbformat_minor": 2
}
