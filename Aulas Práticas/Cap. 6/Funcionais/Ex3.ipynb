{
 "cells": [
  {
   "cell_type": "code",
   "execution_count": 11,
   "metadata": {},
   "outputs": [
    {
     "name": "stdout",
     "output_type": "stream",
     "text": [
      "30\n"
     ]
    }
   ],
   "source": [
    "def soma_fn(n, fn):\n",
    "    soma = 0\n",
    "    for i in range(1, n + 1):\n",
    "        soma += fn(i)\n",
    "    return soma\n",
    "\n",
    "def soma_fnR(n, fn):\n",
    "    def aux(n, fn, i, res):\n",
    "        if i > n:\n",
    "            return res\n",
    "        return aux(n, fn, i + 1, res + fn(i))\n",
    "    return aux(n, fn, 1, 0) \n",
    "\n",
    "print(soma_fnR(4, lambda x: x**2))"
   ]
  }
 ],
 "metadata": {
  "kernelspec": {
   "display_name": "Python 3.10.8 64-bit (microsoft store)",
   "language": "python",
   "name": "python3"
  },
  "language_info": {
   "codemirror_mode": {
    "name": "ipython",
    "version": 3
   },
   "file_extension": ".py",
   "mimetype": "text/x-python",
   "name": "python",
   "nbconvert_exporter": "python",
   "pygments_lexer": "ipython3",
   "version": "3.10.8"
  },
  "orig_nbformat": 4,
  "vscode": {
   "interpreter": {
    "hash": "32623ca6d4857eacc0997917524f4c2329e28cd5f4d8f14dc7dd522706e088d5"
   }
  }
 },
 "nbformat": 4,
 "nbformat_minor": 2
}
