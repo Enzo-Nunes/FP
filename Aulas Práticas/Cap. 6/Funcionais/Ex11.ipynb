{
 "cells": [
  {
   "cell_type": "code",
   "execution_count": null,
   "metadata": {},
   "outputs": [],
   "source": [
    "def Fixed_Point(f, x):\n",
    "    while x != f(x):\n",
    "        x = f(x)\n",
    "    return x\n",
    "\n",
    "def num_dig(n):\n",
    "    return Fixed_Point(lambda x: x if x[0] == 0 else (x[0]//10, x[1] + 1), (n, 0))[1]"
   ]
  }
 ],
 "metadata": {
  "language_info": {
   "name": "python"
  },
  "orig_nbformat": 4
 },
 "nbformat": 4,
 "nbformat_minor": 2
}
