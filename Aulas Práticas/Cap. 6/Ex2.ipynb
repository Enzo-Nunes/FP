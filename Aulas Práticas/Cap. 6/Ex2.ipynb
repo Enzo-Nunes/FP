{
 "cells": [
  {
   "cell_type": "code",
   "execution_count": null,
   "metadata": {},
   "outputs": [],
   "source": [
    "def junta_ordenadas(l1, l2):\n",
    "    if l1 == []:\n",
    "        return l2\n",
    "    if l2 == []:\n",
    "        return l1\n",
    "    if l1[0] < l2[0]:\n",
    "        return [l1[0]] + junta_ordenadas(l1[1:], l2)\n",
    "    return [l2[0]] + junta_ordenadas(l1, l2[1:])"
   ]
  }
 ],
 "metadata": {
  "kernelspec": {
   "display_name": "Python 3.10.8 64-bit (microsoft store)",
   "language": "python",
   "name": "python3"
  },
  "language_info": {
   "name": "python",
   "version": "3.10.8"
  },
  "orig_nbformat": 4,
  "vscode": {
   "interpreter": {
    "hash": "32623ca6d4857eacc0997917524f4c2329e28cd5f4d8f14dc7dd522706e088d5"
   }
  }
 },
 "nbformat": 4,
 "nbformat_minor": 2
}
