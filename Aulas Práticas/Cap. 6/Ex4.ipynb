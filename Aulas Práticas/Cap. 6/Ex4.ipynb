{
 "cells": [
  {
   "cell_type": "code",
   "execution_count": 1,
   "metadata": {},
   "outputs": [
    {
     "name": "stdout",
     "output_type": "stream",
     "text": [
      "17\n"
     ]
    }
   ],
   "source": [
    "def soma_n_vezes(a, b, n):\n",
    "    if n == 0:\n",
    "        return b\n",
    "    return a + soma_n_vezes(a, b, n - 1)\n",
    "\n",
    "print(soma_n_vezes(3, 2, 5))"
   ]
  }
 ],
 "metadata": {
  "kernelspec": {
   "display_name": "Python 3.10.8 64-bit (microsoft store)",
   "language": "python",
   "name": "python3"
  },
  "language_info": {
   "codemirror_mode": {
    "name": "ipython",
    "version": 3
   },
   "file_extension": ".py",
   "mimetype": "text/x-python",
   "name": "python",
   "nbconvert_exporter": "python",
   "pygments_lexer": "ipython3",
   "version": "3.10.8"
  },
  "orig_nbformat": 4,
  "vscode": {
   "interpreter": {
    "hash": "32623ca6d4857eacc0997917524f4c2329e28cd5f4d8f14dc7dd522706e088d5"
   }
  }
 },
 "nbformat": 4,
 "nbformat_minor": 2
}
