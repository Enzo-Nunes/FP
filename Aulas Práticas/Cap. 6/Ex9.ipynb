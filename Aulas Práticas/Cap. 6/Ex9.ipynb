{
 "cells": [
  {
   "cell_type": "code",
   "execution_count": null,
   "metadata": {},
   "outputs": [],
   "source": [
    "def junta(w, i, n):\n",
    "    if i == 0:\n",
    "        return [[n] + w[0], w[1]]\n",
    "    return [w[0], [n] + w[1]]\n",
    "    \n",
    "\n",
    "def parte(w, n):\n",
    "    if w == []:\n",
    "        return [[], []]\n",
    "    if w[0] < n:\n",
    "        return junta(parte(w[1:], n), 0, w[0])\n",
    "    return junta(parte((w[1:], n), 1, w[0]))"
   ]
  },
  {
   "cell_type": "code",
   "execution_count": null,
   "metadata": {},
   "outputs": [],
   "source": [
    "def parte(lst, n):\n",
    "    def aux(lst, num, info):\n",
    "        if info:\n",
    "            return [lst[0] + [num], lst[1]]\n",
    "        return [lst[0], lst[1] + [num]]\n",
    "    if lst == []:\n",
    "        return [[], []]\n",
    "    if lst[0] < n:\n",
    "        return aux(parte(lst[1:], n), lst[0], True)\n",
    "    return aux(parte(lst[1:], n) lst[0], False)"
   ]
  }
 ],
 "metadata": {
  "kernelspec": {
   "display_name": "Python 3.10.8 64-bit (microsoft store)",
   "language": "python",
   "name": "python3"
  },
  "language_info": {
   "name": "python",
   "version": "3.10.8"
  },
  "orig_nbformat": 4,
  "vscode": {
   "interpreter": {
    "hash": "32623ca6d4857eacc0997917524f4c2329e28cd5f4d8f14dc7dd522706e088d5"
   }
  }
 },
 "nbformat": 4,
 "nbformat_minor": 2
}
