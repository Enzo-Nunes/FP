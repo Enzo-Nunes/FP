{
 "cells": [
  {
   "cell_type": "code",
   "execution_count": null,
   "metadata": {},
   "outputs": [],
   "source": [
    "def pertence(w, n):\n",
    "    if w == []:\n",
    "        return False\n",
    "    if w[0] == n:\n",
    "        return True\n",
    "    return pertence(w[1:], n)\n",
    "\n",
    "def subtrai(w1, w2):\n",
    "    if w1 == []:\n",
    "        return []\n",
    "    if pertence(w1[0], w2):\n",
    "        return subtrai(w1[1:], w2)\n",
    "    return [w1[0]] + subtrai(w1[1:], w2)"
   ]
  }
 ],
 "metadata": {
  "kernelspec": {
   "display_name": "Python 3.10.8 64-bit (microsoft store)",
   "language": "python",
   "name": "python3"
  },
  "language_info": {
   "name": "python",
   "version": "3.10.8"
  },
  "orig_nbformat": 4,
  "vscode": {
   "interpreter": {
    "hash": "32623ca6d4857eacc0997917524f4c2329e28cd5f4d8f14dc7dd522706e088d5"
   }
  }
 },
 "nbformat": 4,
 "nbformat_minor": 2
}
