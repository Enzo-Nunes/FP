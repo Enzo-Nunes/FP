{
 "cells": [
  {
   "cell_type": "code",
   "execution_count": 4,
   "metadata": {},
   "outputs": [
    {
     "name": "stdout",
     "output_type": "stream",
     "text": [
      "4\n"
     ]
    }
   ],
   "source": [
    "def sublistas(lst):\n",
    "    if lst == []:\n",
    "        return 0\n",
    "    if isinstance(lst[0], list):\n",
    "        return 1 + sublistas(lst[0]) + sublistas(lst[1:])\n",
    "    return sublistas(lst[1:])\n",
    "\n",
    "\n",
    "def sublistasTR(lst):\n",
    "    res = 0\n",
    "    if lst == []:\n",
    "        return res\n",
    "    def aux(lst, r):\n",
    "        if \n",
    "        \n",
    "\n",
    "\n",
    "print(sublistas(['a', [2, 3, [[[1]], 6, 7], 'b']]))"
   ]
  }
 ],
 "metadata": {
  "kernelspec": {
   "display_name": "Python 3.10.8 64-bit (microsoft store)",
   "language": "python",
   "name": "python3"
  },
  "language_info": {
   "codemirror_mode": {
    "name": "ipython",
    "version": 3
   },
   "file_extension": ".py",
   "mimetype": "text/x-python",
   "name": "python",
   "nbconvert_exporter": "python",
   "pygments_lexer": "ipython3",
   "version": "3.10.8"
  },
  "orig_nbformat": 4,
  "vscode": {
   "interpreter": {
    "hash": "32623ca6d4857eacc0997917524f4c2329e28cd5f4d8f14dc7dd522706e088d5"
   }
  }
 },
 "nbformat": 4,
 "nbformat_minor": 2
}
