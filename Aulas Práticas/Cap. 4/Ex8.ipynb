{
 "cells": [
  {
   "cell_type": "code",
   "execution_count": 12,
   "metadata": {},
   "outputs": [],
   "source": [
    "def junta_ordenados(t1, t2):\n",
    "    result = ()\n",
    "    i1 = i2 = 0\n",
    "    while i1 < len(t1) or i2 < len(t2):\n",
    "        if i1 < len(t1) and (i2 >= len(t2) or t1[i1] <= t2[i2]):\n",
    "            result += (t1[i1],)\n",
    "            i1 += 1\n",
    "        else:\n",
    "            result += (t2[i2],)\n",
    "            i2 += 1\n",
    "    return result\n",
    "print(junta_ordenados((1, 4, 12), (2, 7, 9, 11)))"
   ]
  }
 ],
 "metadata": {
  "kernelspec": {
   "display_name": "Python 3.10.7 64-bit (microsoft store)",
   "language": "python",
   "name": "python3"
  },
  "language_info": {
   "codemirror_mode": {
    "name": "ipython",
    "version": 3
   },
   "file_extension": ".py",
   "mimetype": "text/x-python",
   "name": "python",
   "nbconvert_exporter": "python",
   "pygments_lexer": "ipython3",
   "version": "3.10.7"
  },
  "orig_nbformat": 4,
  "vscode": {
   "interpreter": {
    "hash": "32623ca6d4857eacc0997917524f4c2329e28cd5f4d8f14dc7dd522706e088d5"
   }
  }
 },
 "nbformat": 4,
 "nbformat_minor": 2
}
