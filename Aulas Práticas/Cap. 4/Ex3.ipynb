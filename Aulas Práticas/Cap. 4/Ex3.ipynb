{
 "cells": [
  {
   "cell_type": "code",
   "execution_count": null,
   "metadata": {},
   "outputs": [],
   "source": [
    "def implode(t):\n",
    "    r = 0\n",
    "    if isinstance(t, tuple):\n",
    "        for x in t:\n",
    "            if not isinstance(x, int) or not (0 <= x <= 9):\n",
    "                raise ValueError(\"Elemento não dígito\")\n",
    "            r = r * 10 + x\n",
    "    else:\n",
    "        raise ValueError(\"Entrada não tuplo\")\n",
    "    return r"
   ]
  },
  {
   "cell_type": "code",
   "execution_count": 1,
   "metadata": {},
   "outputs": [
    {
     "name": "stdout",
     "output_type": "stream",
     "text": [
      "1358\n"
     ]
    }
   ],
   "source": [
    "def implode(t):\n",
    "    r = 0\n",
    "    i = 0\n",
    "    while i < len(t):\n",
    "        r = r * 10 + t[i]\n",
    "        i += 1\n",
    "    return r"
   ]
  }
 ],
 "metadata": {
  "kernelspec": {
   "display_name": "Python 3.10.7 64-bit (microsoft store)",
   "language": "python",
   "name": "python3"
  },
  "language_info": {
   "codemirror_mode": {
    "name": "ipython",
    "version": 3
   },
   "file_extension": ".py",
   "mimetype": "text/x-python",
   "name": "python",
   "nbconvert_exporter": "python",
   "pygments_lexer": "ipython3",
   "version": "3.10.7"
  },
  "orig_nbformat": 4,
  "vscode": {
   "interpreter": {
    "hash": "32623ca6d4857eacc0997917524f4c2329e28cd5f4d8f14dc7dd522706e088d5"
   }
  }
 },
 "nbformat": 4,
 "nbformat_minor": 2
}
