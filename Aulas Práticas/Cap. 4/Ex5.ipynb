{
 "cells": [
  {
   "cell_type": "code",
   "execution_count": 2,
   "metadata": {},
   "outputs": [
    {
     "name": "stdout",
     "output_type": "stream",
     "text": [
      "algarismos pares: 246\n"
     ]
    }
   ],
   "source": [
    "def explode(n):\n",
    "    if n > 0 and isinstance(n, int):\n",
    "        r = ()\n",
    "        while n!= 0:\n",
    "            r = (n % 10, ) + r\n",
    "            n //= 10\n",
    "    else:\n",
    "        raise ValueError(\"Argumento tem que ser inteiro positivo\")\n",
    "    return r\n",
    "\n",
    "def implode(t):\n",
    "    r = 0\n",
    "    if isinstance(t, tuple):\n",
    "        for x in t:\n",
    "            if not isinstance(x, int) or not (0 <= x <= 9):\n",
    "                raise ValueError(\"Elemento não dígito\")\n",
    "            r = r * 10 + x\n",
    "    else:\n",
    "        raise ValueError(\"Entrada não tuplo\")\n",
    "    return r\n",
    "\n",
    "def filtra_pares(t):\n",
    "    if isinstance (t, tuple):\n",
    "        r = ()\n",
    "        for x in t:\n",
    "            if isinstance(x, int) and (0 <= x <= 9):\n",
    "                if x % 2 == 0:\n",
    "                    r = r + (x, )\n",
    "            else:\n",
    "                raise ValueError(\"Não dígito\")\n",
    "    else:\n",
    "        raise ValueError(\"Não tuplo\")\n",
    "    return r\n",
    "\n",
    "def algarismos_pares(n):\n",
    "    return implode(filtra_pares(explode(n)))\n",
    "\n",
    "x = eval(input(\"Escreva um número:\"))\n",
    "print(\"algarismos pares:\", algarismos_pares(x))\n",
    "    "
   ]
  }
 ],
 "metadata": {
  "kernelspec": {
   "display_name": "Python 3.10.7 64-bit (microsoft store)",
   "language": "python",
   "name": "python3"
  },
  "language_info": {
   "codemirror_mode": {
    "name": "ipython",
    "version": 3
   },
   "file_extension": ".py",
   "mimetype": "text/x-python",
   "name": "python",
   "nbconvert_exporter": "python",
   "pygments_lexer": "ipython3",
   "version": "3.10.7"
  },
  "orig_nbformat": 4,
  "vscode": {
   "interpreter": {
    "hash": "32623ca6d4857eacc0997917524f4c2329e28cd5f4d8f14dc7dd522706e088d5"
   }
  }
 },
 "nbformat": 4,
 "nbformat_minor": 2
}
