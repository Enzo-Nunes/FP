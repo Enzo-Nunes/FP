{
 "cells": [
  {
   "cell_type": "code",
   "execution_count": 3,
   "metadata": {},
   "outputs": [
    {
     "name": "stdout",
     "output_type": "stream",
     "text": [
      "True\n"
     ]
    }
   ],
   "source": [
    "def amigas(a, b):\n",
    "    a = tuple(a)\n",
    "    b = tuple(b)\n",
    "\n",
    "    i = 0\n",
    "    soma = 0\n",
    "    while i < len(a):\n",
    "        if a[i] == b[i]:\n",
    "            soma += 1\n",
    "        i += 1\n",
    "    \n",
    "    return soma/i > 0.9\n",
    "print(amigas(\"amigas\", \"amigas\"))"
   ]
  },
  {
   "cell_type": "code",
   "execution_count": 23,
   "metadata": {},
   "outputs": [],
   "source": [
    "def amigas(a, b):\n",
    "\n",
    "    for x in range(len(a)):\n",
    "        i = 0\n",
    "        soma = 0\n",
    "        if a[x] == b[x]:\n",
    "            soma += 1\n",
    "        i += 1\n",
    "    \n",
    "    if soma/i < 0.9:\n",
    "        return False\n",
    "    else:\n",
    "        return True"
   ]
  }
 ],
 "metadata": {
  "kernelspec": {
   "display_name": "Python 3.10.7 64-bit (microsoft store)",
   "language": "python",
   "name": "python3"
  },
  "language_info": {
   "codemirror_mode": {
    "name": "ipython",
    "version": 3
   },
   "file_extension": ".py",
   "mimetype": "text/x-python",
   "name": "python",
   "nbconvert_exporter": "python",
   "pygments_lexer": "ipython3",
   "version": "3.10.7"
  },
  "orig_nbformat": 4,
  "vscode": {
   "interpreter": {
    "hash": "32623ca6d4857eacc0997917524f4c2329e28cd5f4d8f14dc7dd522706e088d5"
   }
  }
 },
 "nbformat": 4,
 "nbformat_minor": 2
}
