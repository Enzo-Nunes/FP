{
 "cells": [
  {
   "cell_type": "code",
   "execution_count": null,
   "metadata": {},
   "outputs": [],
   "source": [
    "def filtra_pares(t):\n",
    "    if isinstance (t, tuple):\n",
    "        r = ()\n",
    "        for x in t:\n",
    "            if isinstance(x, int) and (0 <= x <= 9):\n",
    "                if x % 2 == 0:\n",
    "                    r = r + (x, )\n",
    "            else:\n",
    "                raise ValueError(\"Não dígito\")\n",
    "    else:\n",
    "        raise ValueError(\"Não tuplo\")\n",
    "    return r"
   ]
  }
 ],
 "metadata": {
  "kernelspec": {
   "display_name": "Python 3.10.7 64-bit (microsoft store)",
   "language": "python",
   "name": "python3"
  },
  "language_info": {
   "name": "python",
   "version": "3.10.7"
  },
  "orig_nbformat": 4,
  "vscode": {
   "interpreter": {
    "hash": "32623ca6d4857eacc0997917524f4c2329e28cd5f4d8f14dc7dd522706e088d5"
   }
  }
 },
 "nbformat": 4,
 "nbformat_minor": 2
}
