{
 "cells": [
  {
   "cell_type": "code",
   "execution_count": null,
   "metadata": {},
   "outputs": [],
   "source": [
    "def num_par_seq_cod(n):\n",
    "    if isinstance(n, int) and n > 0:\n",
    "        r = ()\n",
    "        while n != 0:\n",
    "            r = (((n % 10) + 2 * (1 - 2 * (n % 2))) % 10, ) + r\n",
    "            n //= 10\n",
    "        return r\n",
    "    else:\n",
    "        raise ValueError(\"Entrada inválida\")"
   ]
  },
  {
   "cell_type": "code",
   "execution_count": null,
   "metadata": {},
   "outputs": [],
   "source": [
    "def explode(n):\n",
    "    if n > 0 and isinstance(n, int):\n",
    "        r = ()\n",
    "        while n!= 0:\n",
    "            r = (n % 10, ) + r\n",
    "            n //= 10\n",
    "    else:\n",
    "        raise ValueError(\"Argumento tem que ser inteiro positivo\")\n",
    "    return r\n",
    "\n",
    "def num_par_seq_cod(n):\n",
    "    if isinstance(n, int) and n > 0:\n",
    "        r = ()\n",
    "        c = (2, 9, 4, 1, 6, 3, 8, 5, 0, 7)\n",
    "        for x in explode(n):\n",
    "            r = r + (c[x], )\n",
    "    else:\n",
    "        raise ValueError(\"Argumento tem que ser inteiro positivo\")\n",
    "        \n",
    "    return r"
   ]
  }
 ],
 "metadata": {
  "kernelspec": {
   "display_name": "Python 3.10.7 64-bit (microsoft store)",
   "language": "python",
   "name": "python3"
  },
  "language_info": {
   "name": "python",
   "version": "3.10.7"
  },
  "orig_nbformat": 4,
  "vscode": {
   "interpreter": {
    "hash": "32623ca6d4857eacc0997917524f4c2329e28cd5f4d8f14dc7dd522706e088d5"
   }
  }
 },
 "nbformat": 4,
 "nbformat_minor": 2
}
