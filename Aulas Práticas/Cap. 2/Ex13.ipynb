{
 "cells": [
  {
   "cell_type": "code",
   "execution_count": 1,
   "metadata": {},
   "outputs": [
    {
     "name": "stdout",
     "output_type": "stream",
     "text": [
      "15 * 1 = 15\n",
      "15 * 2 = 30\n",
      "15 * 3 = 45\n",
      "15 * 4 = 60\n",
      "15 * 5 = 75\n",
      "15 * 6 = 90\n",
      "15 * 7 = 105\n",
      "15 * 8 = 120\n",
      "15 * 9 = 135\n",
      "15 * 10 = 150\n"
     ]
    }
   ],
   "source": [
    "x = eval(input(\"Escreva um número:\"))\n",
    "i = 1\n",
    "\n",
    "while i <= 10:\n",
    "    print(x, \"*\", i, \"=\", x * i)\n",
    "    i += 1"
   ]
  }
 ],
 "metadata": {
  "kernelspec": {
   "display_name": "Python 3.10.7 64-bit",
   "language": "python",
   "name": "python3"
  },
  "language_info": {
   "codemirror_mode": {
    "name": "ipython",
    "version": 3
   },
   "file_extension": ".py",
   "mimetype": "text/x-python",
   "name": "python",
   "nbconvert_exporter": "python",
   "pygments_lexer": "ipython3",
   "version": "3.10.7"
  },
  "orig_nbformat": 4,
  "vscode": {
   "interpreter": {
    "hash": "a7dbb88c84ecda04e2dfa8176cb6708abf8c95c32934f510df16d1a1f4945387"
   }
  }
 },
 "nbformat": 4,
 "nbformat_minor": 2
}
