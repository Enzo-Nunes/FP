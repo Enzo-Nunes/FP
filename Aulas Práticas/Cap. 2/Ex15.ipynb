{
 "cells": [
  {
   "cell_type": "code",
   "execution_count": null,
   "metadata": {},
   "outputs": [],
   "source": [
    "x = eval(inut(\"Escreva um número inteiro:\"))\n",
    "s = 0\n",
    "\n",
    "while x != 0:\n",
    "    s += x % 10\n",
    "    x = x // 10\n",
    "\n",
    "print(\"A soma dos dígitos é:\", s)"
   ]
  }
 ],
 "metadata": {
  "kernelspec": {
   "display_name": "Python 3.10.7 64-bit",
   "language": "python",
   "name": "python3"
  },
  "language_info": {
   "name": "python",
   "version": "3.10.7"
  },
  "orig_nbformat": 4,
  "vscode": {
   "interpreter": {
    "hash": "a7dbb88c84ecda04e2dfa8176cb6708abf8c95c32934f510df16d1a1f4945387"
   }
  }
 },
 "nbformat": 4,
 "nbformat_minor": 2
}
