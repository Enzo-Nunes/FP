{
 "cells": [
  {
   "cell_type": "code",
   "execution_count": 2,
   "metadata": {},
   "outputs": [
    {
     "name": "stdout",
     "output_type": "stream",
     "text": [
      "1 x 8 + 1 = 9\n",
      "12 x 8 + 2 = 98\n",
      "123 x 8 + 3 = 987\n",
      "1234 x 8 + 4 = 9876\n",
      "12345 x 8 + 5 = 98765\n",
      "123456 x 8 + 6 = 987654\n",
      "1234567 x 8 + 7 = 9876543\n",
      "12345678 x 8 + 8 = 98765432\n",
      "123456789 x 8 + 9 = 987654321\n"
     ]
    }
   ],
   "source": [
    "i = 1\n",
    "termo = 1\n",
    "\n",
    "while i <= 9:\n",
    "    print(termo, \"x 8 +\", i, \"=\", termo * 8 + i)\n",
    "    termo = 10 * termo + i + 1\n",
    "    i += 1"
   ]
  }
 ],
 "metadata": {
  "kernelspec": {
   "display_name": "Python 3.10.7 64-bit (microsoft store)",
   "language": "python",
   "name": "python3"
  },
  "language_info": {
   "codemirror_mode": {
    "name": "ipython",
    "version": 3
   },
   "file_extension": ".py",
   "mimetype": "text/x-python",
   "name": "python",
   "nbconvert_exporter": "python",
   "pygments_lexer": "ipython3",
   "version": "3.10.7"
  },
  "orig_nbformat": 4,
  "vscode": {
   "interpreter": {
    "hash": "32623ca6d4857eacc0997917524f4c2329e28cd5f4d8f14dc7dd522706e088d5"
   }
  }
 },
 "nbformat": 4,
 "nbformat_minor": 2
}
