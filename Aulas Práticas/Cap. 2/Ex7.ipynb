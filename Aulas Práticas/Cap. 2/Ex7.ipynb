{
 "cells": [
  {
   "cell_type": "code",
   "execution_count": 9,
   "metadata": {},
   "outputs": [
    {
     "name": "stdout",
     "output_type": "stream",
     "text": [
      "O salário semanal é: 480\n"
     ]
    }
   ],
   "source": [
    "h = eval(input(\"Escreva o número de horas de trabalho:\"))\n",
    "s = eval(input(\"Escreva o salário por hora do trabalhador:\"))\n",
    "\n",
    "if h <= 40:\n",
    "    print(\"O salário semanal é:\", s * h, \"€\")\n",
    "if h >= 40:\n",
    "    print(\"O salário semanal é:\", 40 * s + (h-40) * 2 * s)"
   ]
  }
 ],
 "metadata": {
  "kernelspec": {
   "display_name": "Python 3.10.7 64-bit (microsoft store)",
   "language": "python",
   "name": "python3"
  },
  "language_info": {
   "codemirror_mode": {
    "name": "ipython",
    "version": 3
   },
   "file_extension": ".py",
   "mimetype": "text/x-python",
   "name": "python",
   "nbconvert_exporter": "python",
   "pygments_lexer": "ipython3",
   "version": "3.10.7"
  },
  "orig_nbformat": 4,
  "vscode": {
   "interpreter": {
    "hash": "32623ca6d4857eacc0997917524f4c2329e28cd5f4d8f14dc7dd522706e088d5"
   }
  }
 },
 "nbformat": 4,
 "nbformat_minor": 2
}
