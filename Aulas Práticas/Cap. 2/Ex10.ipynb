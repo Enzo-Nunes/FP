{
 "cells": [
  {
   "cell_type": "code",
   "execution_count": 9,
   "metadata": {},
   "outputs": [
    {
     "name": "stdout",
     "output_type": "stream",
     "text": [
      "Resultado: 13357\n"
     ]
    }
   ],
   "source": [
    "x = eval(input(\"Escreva um número inteiro:\"))\n",
    "soma = 0\n",
    "\n",
    "while x != 0:\n",
    "    if x % 2 == 0:\n",
    "        x = x//10\n",
    "    else:\n",
    "        soma += x % 10\n",
    "        x = x//10\n",
    "        soma *= 10\n",
    "\n",
    "soma = soma//10\n",
    "\n",
    "s = 0\n",
    "while soma != 0:\n",
    "    s += soma % 10\n",
    "    soma = soma // 10\n",
    "    s *= 10\n",
    "\n",
    "print(\"Resultado:\", s//10)"
   ]
  },
  {
   "cell_type": "code",
   "execution_count": 10,
   "metadata": {},
   "outputs": [
    {
     "name": "stdout",
     "output_type": "stream",
     "text": [
      "135\n"
     ]
    }
   ],
   "source": [
    "x = eval(input(\"Escreva um número:\"))\n",
    "i = 0\n",
    "soma = 0\n",
    "\n",
    "while x != 0:\n",
    "    digit = x % 10\n",
    "    if digit % 2 != 0:\n",
    "        soma += digit * (10 ** i)\n",
    "        i += 1\n",
    "    x //= 10\n",
    "print(soma)"
   ]
  }
 ],
 "metadata": {
  "kernelspec": {
   "display_name": "Python 3.10.7 64-bit (microsoft store)",
   "language": "python",
   "name": "python3"
  },
  "language_info": {
   "codemirror_mode": {
    "name": "ipython",
    "version": 3
   },
   "file_extension": ".py",
   "mimetype": "text/x-python",
   "name": "python",
   "nbconvert_exporter": "python",
   "pygments_lexer": "ipython3",
   "version": "3.10.7"
  },
  "orig_nbformat": 4,
  "vscode": {
   "interpreter": {
    "hash": "32623ca6d4857eacc0997917524f4c2329e28cd5f4d8f14dc7dd522706e088d5"
   }
  }
 },
 "nbformat": 4,
 "nbformat_minor": 2
}
