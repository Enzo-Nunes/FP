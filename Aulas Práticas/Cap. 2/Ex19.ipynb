{
 "cells": [
  {
   "cell_type": "code",
   "execution_count": 30,
   "metadata": {},
   "outputs": [
    {
     "name": "stdout",
     "output_type": "stream",
     "text": [
      "Valor: 145.32€ \n",
      "\n",
      "Notas de 50€: 2.0 \n",
      "Notas de 20€ 2.0 \n",
      "Notas de 10€: 0.0 \n",
      "Notas de 5€: 1.0 \n",
      "Moedas de 2€: 0.0 \n",
      "Moedas de 1€: 0.0 \n",
      "Moedas de 0.50€: 0.0 \n",
      "Moedas de 0.20€: 1.0 \n",
      "Moedas de 0.10€: 1.0 \n",
      "Moedas de 0.05€: 0.0 \n",
      "Moedas de 0.02€: 1.0 \n",
      "Moedas de 0.01€: 0.0\n"
     ]
    }
   ],
   "source": [
    "valor = 100 * eval(input(\"Escreva uma quantia em euros:\"))\n",
    "\n",
    "cinquenta = valor // 5000\n",
    "vinte = (valor % 5000) // 2000\n",
    "dez = ((valor % 5000) % 2000) // 1000\n",
    "cinco = (((valor % 5000) % 2000) % 1000) // 500\n",
    "dois = ((((valor % 5000) % 2000) % 1000) % 500) // 200\n",
    "um = (((((valor % 5000) % 2000) % 1000) % 500) % 200) // 100\n",
    "cinquentacent = ((((((valor % 5000) % 2000) % 1000) % 500) % 200) % 100) // 50\n",
    "vintecent = (((((((valor % 5000) % 2000) % 1000) % 500) % 200) % 100) % 50) // 20\n",
    "dezcent = ((((((((valor % 5000) % 2000) % 1000) % 500) % 200) % 100) % 50) % 20) // 10\n",
    "cincocent = (((((((((valor % 5000) % 2000) % 1000) % 500) % 200) % 100) % 50) % 20) % 10) // 5\n",
    "doiscent = ((((((((((valor % 5000) % 2000) % 1000) % 500) % 200) % 100) % 50) % 20) % 10) % 5) // 2\n",
    "umcent = (((((((((((valor % 5000) % 2000) % 1000) % 500) % 200) % 100) % 50) % 20) % 10) % 5) % 2)\n",
    "\n",
    "print(\"Valor:\", valor/100, \"\\b€\", \"\\n\\nNotas de 50€:\", cinquenta, \\\n",
    "    \"\\nNotas de 20€\", vinte, \\\n",
    "    \"\\nNotas de 10€:\", dez, \\\n",
    "    \"\\nNotas de 5€:\", cinco, \\\n",
    "    \"\\nMoedas de 2€:\", dois, \\\n",
    "    \"\\nMoedas de 1€:\", um, \\\n",
    "    \"\\nMoedas de 0.50€:\", cinquentacent, \\\n",
    "    \"\\nMoedas de 0.20€:\", vintecent, \\\n",
    "    \"\\nMoedas de 0.10€:\", dezcent, \\\n",
    "    \"\\nMoedas de 0.05€:\", cincocent, \\\n",
    "    \"\\nMoedas de 0.02€:\", doiscent, \\\n",
    "    \"\\nMoedas de 0.01€:\", umcent)"
   ]
  },
  {
   "cell_type": "code",
   "execution_count": 33,
   "metadata": {},
   "outputs": [
    {
     "name": "stdout",
     "output_type": "stream",
     "text": [
      "Valor: 2132.0\n",
      "\n",
      "Notas de 50€: 42.0\n",
      "Notas de 20€: 1.0\n",
      "Notas de 10€: 1.0\n",
      "Notas de 5€: 0.0\n",
      "Moedas de 2€: 1.0\n",
      "Moedas de 1€: 0.0\n",
      "Moedas de 0.50€: 0.0\n",
      "Moedas de 0.20€: 0.0\n",
      "Moedas de 0.10€: 1.0\n",
      "Moedas de 0.05€: 0.0\n",
      "Moedas de 0.02€: 1.0\n",
      "Moedas de 0.01€: 0.0\n"
     ]
    }
   ],
   "source": [
    "valor = 100 * eval(input(\"Escreva uma quantia em Euros:\"))\n",
    "\n",
    "print(\"Valor:\", valor / 100)\n",
    "\n",
    "print(\"\\nNotas de 50€:\", valor // 5000)\n",
    "valor %= 5000\n",
    "\n",
    "print(\"Notas de 20€:\", valor // 2000)\n",
    "valor %= 2000\n",
    "\n",
    "print(\"Notas de 10€:\", valor // 1000)\n",
    "valor %= 1000\n",
    "\n",
    "print(\"Notas de 5€:\", valor // 500)\n",
    "valor %= 500\n",
    "\n",
    "print(\"Moedas de 2€:\", valor // 200)\n",
    "valor %= 200\n",
    "\n",
    "print(\"Moedas de 1€:\", valor // 100)\n",
    "valor %= 100\n",
    "\n",
    "print(\"Moedas de 0.50€:\", valor // 50)\n",
    "valor %= 50\n",
    "\n",
    "print(\"Moedas de 0.20€:\", valor // 20)\n",
    "valor %= 20\n",
    "\n",
    "print(\"Moedas de 0.10€:\", valor // 10)\n",
    "valor %= 10\n",
    "\n",
    "print(\"Moedas de 0.05€:\", valor // 5)\n",
    "valor %= 5\n",
    "\n",
    "print(\"Moedas de 0.02€:\", valor // 2)\n",
    "valor %= 2\n",
    "\n",
    "print(\"Moedas de 0.01€:\", valor)"
   ]
  }
 ],
 "metadata": {
  "language_info": {
   "name": "python"
  },
  "orig_nbformat": 4
 },
 "nbformat": 4,
 "nbformat_minor": 2
}
