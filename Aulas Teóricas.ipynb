{
 "cells": [
  {
   "cell_type": "code",
   "execution_count": null,
   "metadata": {},
   "outputs": [],
   "source": [
    "def mdc(m, n):\n",
    "\n",
    "    if type(m) != int and type(n) != int:\n",
    "        raise ValueError(\"Entradas não inteiras\")\n",
    "    if  m <= 0 or n <= 0:\n",
    "        raise ValueError(\"Entradas têm que ser positivas\")\n",
    "    \n",
    "    while n != 0:\n",
    "        r = m % n\n",
    "        m = n\n",
    "        n = r\n",
    "    return m\n",
    "\n",
    "a = eval(input(\"Escreva um valor para m:\"))\n",
    "b = eval(input(\"Escreva um valor para n:\"))\n",
    "\n",
    "max_div = mdc(a, b)\n",
    "print(\"O MDC entre\", a, \"e\", b, \"é\", max_div)"
   ]
  },
  {
   "cell_type": "code",
   "execution_count": null,
   "metadata": {},
   "outputs": [],
   "source": [
    "def raiz(x, erro):\n",
    "    def testa_convergência(p, pp, err):\n",
    "        return abs(p - pp) < err\n",
    "\n",
    "    p_prev = palpite\n",
    "    palpite = 1\n",
    "    while not testa_convergência(palpite, p_prev, erro):\n",
    "        p_prev = palpite\n",
    "        palpite = (p_prev + x/p_prev)/2\n",
    "    \n",
    "    return palpite\n",
    "\n",
    "a = eval(input(\"Escreva um valor para x:\"))\n",
    "b = eval(input(\"Escreva um valor para o erro:\"))\n",
    "print(raiz(a, b))"
   ]
  },
  {
   "cell_type": "code",
   "execution_count": null,
   "metadata": {},
   "outputs": [],
   "source": [
    "def aprox_raiz(x, n):\n",
    "\n",
    "    i = 1\n",
    "    aprox = (1 + x)/2\n",
    "\n",
    "    while i < n:\n",
    "        aprox = (aprox + x/aprox)/2\n",
    "        i += i + 1\n",
    "    return aprox\n",
    "\n",
    "a = float(input(\"Escreva o número do qual quer a raiz:\"))\n",
    "b = float(input(\"Qual é a precisão da aproximação?\"))\n",
    "print(aprox_raiz(a, b))"
   ]
  },
  {
   "cell_type": "code",
   "execution_count": null,
   "metadata": {},
   "outputs": [],
   "source": [
    "def soma_elementos_for(t):\n",
    "    soma = 0\n",
    "    for elemento in t:\n",
    "        soma += elemento\n",
    "    return soma\n",
    "print(soma_elementos_for((1,2,3,7)))"
   ]
  },
  {
   "cell_type": "code",
   "execution_count": null,
   "metadata": {},
   "outputs": [],
   "source": [
    "t = (input(\"Escreva um inteiro:\"))\n",
    "soma = 0\n",
    "\n",
    "for digito in t:\n",
    "    soma += digito\n",
    "\n",
    "print(\"Soma dos dígitos:\", soma)"
   ]
  },
  {
   "cell_type": "code",
   "execution_count": null,
   "metadata": {},
   "outputs": [],
   "source": [
    "def simbolos_comum(s, t):\n",
    "    res = \"\"\n",
    "    for c in s:\n",
    "        if c in t and c not in res:\n",
    "            res += c\n",
    "    return res"
   ]
  },
  {
   "cell_type": "code",
   "execution_count": null,
   "metadata": {},
   "outputs": [],
   "source": [
    "x = \"AbCddEE CsacasacSCA sDASHDAOSnn\"\n",
    "\n",
    "print(x.capitalize())"
   ]
  },
  {
   "cell_type": "code",
   "execution_count": null,
   "metadata": {},
   "outputs": [],
   "source": [
    "a = [1, 2, 3]\n",
    "b = [2, 4, 6]\n",
    "c = []\n",
    "\n",
    "for n in range(len(a)):\n",
    "    c.append(a[n] + b[n])\n",
    "\n",
    "print (c)"
   ]
  },
  {
   "cell_type": "code",
   "execution_count": null,
   "metadata": {},
   "outputs": [],
   "source": [
    "n = eval(input())\n",
    "for x in range(n):\n",
    "    print(n)"
   ]
  },
  {
   "cell_type": "code",
   "execution_count": null,
   "metadata": {},
   "outputs": [],
   "source": [
    "def mais_média(n):\n",
    "    t = ()\n",
    "\n",
    "print(mais_média(\"123\"))\n"
   ]
  },
  {
   "cell_type": "code",
   "execution_count": null,
   "metadata": {},
   "outputs": [],
   "source": [
    "from math import sqrt\n",
    "\n",
    "def crivo(n):\n",
    "    primes = list(range(2, n + 1))\n",
    "\n",
    "    c = 2\n",
    "    while c <= sqrt(n):\n",
    "        for x in primes:\n",
    "            if x % c == 0 and x != c:\n",
    "                primes.remove(x)\n",
    "        c += 1\n",
    "    return primes\n",
    "\n",
    "print(crivo(50))\n",
    "%timeit -n 100 crivo(50)"
   ]
  },
  {
   "cell_type": "code",
   "execution_count": null,
   "metadata": {},
   "outputs": [],
   "source": []
  }
 ],
 "metadata": {
  "kernelspec": {
   "display_name": "Python 3.10.7 64-bit",
   "language": "python",
   "name": "python3"
  },
  "language_info": {
   "codemirror_mode": {
    "name": "ipython",
    "version": 3
   },
   "file_extension": ".py",
   "mimetype": "text/x-python",
   "name": "python",
   "nbconvert_exporter": "python",
   "pygments_lexer": "ipython3",
   "version": "3.10.7"
  },
  "orig_nbformat": 4,
  "vscode": {
   "interpreter": {
    "hash": "a7dbb88c84ecda04e2dfa8176cb6708abf8c95c32934f510df16d1a1f4945387"
   }
  }
 },
 "nbformat": 4,
 "nbformat_minor": 2
}
